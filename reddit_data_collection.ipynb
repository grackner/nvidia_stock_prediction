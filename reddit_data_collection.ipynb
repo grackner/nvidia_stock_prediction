{
 "cells": [
  {
   "cell_type": "markdown",
   "metadata": {
    "id": "HerP6rOxlTVZ"
   },
   "source": [
    "# Collecting Reddit Data with Reddit API\n"
   ]
  },
  {
   "cell_type": "code",
   "execution_count": 2,
   "metadata": {
    "colab": {
     "base_uri": "https://localhost:8080/"
    },
    "id": "YsHbs29BNcTc",
    "outputId": "cd13b6ef-2175-47e9-d77e-555ca30a0b1d"
   },
   "outputs": [
    {
     "name": "stdout",
     "output_type": "stream",
     "text": [
      "Requirement already satisfied: python-dotenv in c:\\users\\vnguy\\anaconda3\\lib\\site-packages (0.21.0)\n",
      "Collecting praw\n",
      "  Downloading praw-7.8.1-py3-none-any.whl (189 kB)\n",
      "Collecting prawcore<3,>=2.4\n",
      "  Downloading prawcore-2.4.0-py3-none-any.whl (17 kB)\n",
      "Requirement already satisfied: websocket-client>=0.54.0 in c:\\users\\vnguy\\anaconda3\\lib\\site-packages (from praw) (1.8.0)\n",
      "Collecting update_checker>=0.18\n",
      "  Downloading update_checker-0.18.0-py3-none-any.whl (7.0 kB)\n",
      "Requirement already satisfied: requests<3.0,>=2.6.0 in c:\\users\\vnguy\\anaconda3\\lib\\site-packages (from prawcore<3,>=2.4->praw) (2.32.3)\n",
      "Requirement already satisfied: idna<4,>=2.5 in c:\\users\\vnguy\\anaconda3\\lib\\site-packages (from requests<3.0,>=2.6.0->prawcore<3,>=2.4->praw) (3.3)\n",
      "Requirement already satisfied: certifi>=2017.4.17 in c:\\users\\vnguy\\anaconda3\\lib\\site-packages (from requests<3.0,>=2.6.0->prawcore<3,>=2.4->praw) (2024.8.30)\n",
      "Requirement already satisfied: urllib3<3,>=1.21.1 in c:\\users\\vnguy\\anaconda3\\lib\\site-packages (from requests<3.0,>=2.6.0->prawcore<3,>=2.4->praw) (1.26.9)\n",
      "Requirement already satisfied: charset-normalizer<4,>=2 in c:\\users\\vnguy\\anaconda3\\lib\\site-packages (from requests<3.0,>=2.6.0->prawcore<3,>=2.4->praw) (2.0.4)\n",
      "Installing collected packages: update-checker, prawcore, praw\n",
      "Successfully installed praw-7.8.1 prawcore-2.4.0 update-checker-0.18.0\n"
     ]
    }
   ],
   "source": [
    "!pip install python-dotenv\n",
    "!pip install praw"
   ]
  },
  {
   "cell_type": "code",
   "execution_count": 3,
   "metadata": {
    "id": "yIPXFk75eOO_"
   },
   "outputs": [],
   "source": [
    "# Import libraries\n",
    "import praw\n",
    "import datetime\n",
    "import pandas as pd\n",
    "import os\n",
    "from dotenv import load_dotenv\n",
    "import warnings\n",
    "warnings.filterwarnings('ignore')"
   ]
  },
  {
   "cell_type": "code",
   "execution_count": 4,
   "metadata": {
    "id": "AaVTX2dExsV2"
   },
   "outputs": [
    {
     "ename": "MissingRequiredAttributeException",
     "evalue": "Required configuration setting 'client_id' missing. \nThis setting can be provided in a praw.ini file, as a keyword argument to the Reddit class constructor, or as an environment variable.",
     "output_type": "error",
     "traceback": [
      "\u001b[1;31m---------------------------------------------------------------------------\u001b[0m",
      "\u001b[1;31mMissingRequiredAttributeException\u001b[0m         Traceback (most recent call last)",
      "Cell \u001b[1;32mIn[4], line 5\u001b[0m\n\u001b[0;32m      2\u001b[0m load_dotenv(\u001b[38;5;124m'\u001b[39m\u001b[38;5;124mx.env\u001b[39m\u001b[38;5;124m'\u001b[39m)\n\u001b[0;32m      4\u001b[0m \u001b[38;5;66;03m# Set up credentials from env file\u001b[39;00m\n\u001b[1;32m----> 5\u001b[0m reddit \u001b[38;5;241m=\u001b[39m \u001b[43mpraw\u001b[49m\u001b[38;5;241;43m.\u001b[39;49m\u001b[43mReddit\u001b[49m\u001b[43m(\u001b[49m\n\u001b[0;32m      6\u001b[0m \u001b[43m    \u001b[49m\u001b[43mclient_id\u001b[49m\u001b[38;5;241;43m=\u001b[39;49m\u001b[43mos\u001b[49m\u001b[38;5;241;43m.\u001b[39;49m\u001b[43mgetenv\u001b[49m\u001b[43m(\u001b[49m\u001b[38;5;124;43m\"\u001b[39;49m\u001b[38;5;124;43mCLIENT_ID\u001b[39;49m\u001b[38;5;124;43m\"\u001b[39;49m\u001b[43m)\u001b[49m\u001b[43m,\u001b[49m\n\u001b[0;32m      7\u001b[0m \u001b[43m    \u001b[49m\u001b[43mclient_secret\u001b[49m\u001b[38;5;241;43m=\u001b[39;49m\u001b[43mos\u001b[49m\u001b[38;5;241;43m.\u001b[39;49m\u001b[43mgetenv\u001b[49m\u001b[43m(\u001b[49m\u001b[38;5;124;43m\"\u001b[39;49m\u001b[38;5;124;43mCLIENT_SECRET\u001b[39;49m\u001b[38;5;124;43m\"\u001b[39;49m\u001b[43m)\u001b[49m\u001b[43m,\u001b[49m\n\u001b[0;32m      8\u001b[0m \u001b[43m    \u001b[49m\u001b[43muser_agent\u001b[49m\u001b[38;5;241;43m=\u001b[39;49m\u001b[43mos\u001b[49m\u001b[38;5;241;43m.\u001b[39;49m\u001b[43mgetenv\u001b[49m\u001b[43m(\u001b[49m\u001b[38;5;124;43m\"\u001b[39;49m\u001b[38;5;124;43mUSER_AGENT\u001b[39;49m\u001b[38;5;124;43m\"\u001b[39;49m\u001b[43m)\u001b[49m\n\u001b[0;32m      9\u001b[0m \u001b[43m)\u001b[49m\n",
      "File \u001b[1;32m~\\anaconda3\\lib\\site-packages\\praw\\util\\deprecate_args.py:46\u001b[0m, in \u001b[0;36m_deprecate_args.<locals>.wrapper.<locals>.wrapped\u001b[1;34m(*args, **kwargs)\u001b[0m\n\u001b[0;32m     39\u001b[0m     arg_string \u001b[38;5;241m=\u001b[39m _generate_arg_string(_old_args[: \u001b[38;5;28mlen\u001b[39m(args)])\n\u001b[0;32m     40\u001b[0m     warn(\n\u001b[0;32m     41\u001b[0m         \u001b[38;5;124mf\u001b[39m\u001b[38;5;124m\"\u001b[39m\u001b[38;5;124mPositional arguments for \u001b[39m\u001b[38;5;132;01m{\u001b[39;00mfunc\u001b[38;5;241m.\u001b[39m\u001b[38;5;18m__qualname__\u001b[39m\u001b[38;5;132;01m!r}\u001b[39;00m\u001b[38;5;124m will no longer be\u001b[39m\u001b[38;5;124m\"\u001b[39m\n\u001b[0;32m     42\u001b[0m         \u001b[38;5;124mf\u001b[39m\u001b[38;5;124m\"\u001b[39m\u001b[38;5;124m supported in PRAW 8.\u001b[39m\u001b[38;5;130;01m\\n\u001b[39;00m\u001b[38;5;124mCall this function with \u001b[39m\u001b[38;5;132;01m{\u001b[39;00marg_string\u001b[38;5;132;01m}\u001b[39;00m\u001b[38;5;124m.\u001b[39m\u001b[38;5;124m\"\u001b[39m,\n\u001b[0;32m     43\u001b[0m         \u001b[38;5;167;01mDeprecationWarning\u001b[39;00m,\n\u001b[0;32m     44\u001b[0m         stacklevel\u001b[38;5;241m=\u001b[39m\u001b[38;5;241m2\u001b[39m,\n\u001b[0;32m     45\u001b[0m     )\n\u001b[1;32m---> 46\u001b[0m \u001b[38;5;28;01mreturn\u001b[39;00m func(\u001b[38;5;241m*\u001b[39m\u001b[38;5;241m*\u001b[39m\u001b[38;5;28mdict\u001b[39m(\u001b[38;5;28mzip\u001b[39m(_old_args, args)), \u001b[38;5;241m*\u001b[39m\u001b[38;5;241m*\u001b[39mkwargs)\n",
      "File \u001b[1;32m~\\anaconda3\\lib\\site-packages\\praw\\reddit.py:259\u001b[0m, in \u001b[0;36mReddit.__init__\u001b[1;34m(self, site_name, config_interpolation, requestor_class, requestor_kwargs, token_manager, **config_settings)\u001b[0m\n\u001b[0;32m    257\u001b[0m \u001b[38;5;28;01mfor\u001b[39;00m attribute \u001b[38;5;129;01min\u001b[39;00m (\u001b[38;5;124m\"\u001b[39m\u001b[38;5;124mclient_id\u001b[39m\u001b[38;5;124m\"\u001b[39m, \u001b[38;5;124m\"\u001b[39m\u001b[38;5;124muser_agent\u001b[39m\u001b[38;5;124m\"\u001b[39m):\n\u001b[0;32m    258\u001b[0m     \u001b[38;5;28;01mif\u001b[39;00m \u001b[38;5;28mgetattr\u001b[39m(\u001b[38;5;28mself\u001b[39m\u001b[38;5;241m.\u001b[39mconfig, attribute) \u001b[38;5;129;01min\u001b[39;00m (\u001b[38;5;28mself\u001b[39m\u001b[38;5;241m.\u001b[39mconfig\u001b[38;5;241m.\u001b[39mCONFIG_NOT_SET, \u001b[38;5;28;01mNone\u001b[39;00m):\n\u001b[1;32m--> 259\u001b[0m         \u001b[38;5;28;01mraise\u001b[39;00m MissingRequiredAttributeException(\n\u001b[0;32m    260\u001b[0m             required_message\u001b[38;5;241m.\u001b[39mformat(attribute)\n\u001b[0;32m    261\u001b[0m         )\n\u001b[0;32m    262\u001b[0m \u001b[38;5;28;01mif\u001b[39;00m \u001b[38;5;28mself\u001b[39m\u001b[38;5;241m.\u001b[39mconfig\u001b[38;5;241m.\u001b[39mclient_secret \u001b[38;5;129;01mis\u001b[39;00m \u001b[38;5;28mself\u001b[39m\u001b[38;5;241m.\u001b[39mconfig\u001b[38;5;241m.\u001b[39mCONFIG_NOT_SET:\n\u001b[0;32m    263\u001b[0m     msg \u001b[38;5;241m=\u001b[39m \u001b[38;5;124mf\u001b[39m\u001b[38;5;124m\"\u001b[39m\u001b[38;5;132;01m{\u001b[39;00mrequired_message\u001b[38;5;241m.\u001b[39mformat(\u001b[38;5;124m'\u001b[39m\u001b[38;5;124mclient_secret\u001b[39m\u001b[38;5;124m'\u001b[39m)\u001b[38;5;132;01m}\u001b[39;00m\u001b[38;5;130;01m\\n\u001b[39;00m\u001b[38;5;124mFor installed applications this value must be set to None via a keyword argument to the Reddit class constructor.\u001b[39m\u001b[38;5;124m\"\u001b[39m\n",
      "\u001b[1;31mMissingRequiredAttributeException\u001b[0m: Required configuration setting 'client_id' missing. \nThis setting can be provided in a praw.ini file, as a keyword argument to the Reddit class constructor, or as an environment variable."
     ]
    }
   ],
   "source": [
    "# Load environment variables\n",
    "load_dotenv('x.env')\n",
    "\n",
    "# Set up credentials from env file\n",
    "reddit = praw.Reddit(\n",
    "    client_id=os.getenv(\"CLIENT_ID\"),\n",
    "    client_secret=os.getenv(\"CLIENT_SECRET\"),\n",
    "    user_agent=os.getenv(\"USER_AGENT\")\n",
    ")"
   ]
  },
  {
   "cell_type": "markdown",
   "metadata": {
    "id": "xXrPmRvbgRSP"
   },
   "source": [
    "### Get Training Data"
   ]
  },
  {
   "cell_type": "code",
   "execution_count": null,
   "metadata": {
    "colab": {
     "base_uri": "https://localhost:8080/",
     "height": 1000
    },
    "id": "9q2dbc-_RhP8",
    "outputId": "2eac8ff2-c5e6-4b7a-bb80-4f1756082253"
   },
   "outputs": [],
   "source": [
    "# Get training data range\n",
    "start_date = datetime.datetime(2024, 11, 1)  # November 1, 2024\n",
    "end_date = datetime.datetime(2025, 1, 31)  # January 31, 2025\n",
    "\n",
    "# Convert datetime dates to Unix timestamps\n",
    "start_timestamp = int(start_date.timestamp())\n",
    "end_timestamp = int(end_date.timestamp())\n",
    "\n",
    "# Query subreddit posts containing 'NVIDIA' within the date range in various subreddits\n",
    "subreddits = ['stocks', 'investing', 'money', 'DayTrading', 'wallstreetbets']\n",
    "# Create filtered posts list\n",
    "train_filtered_posts = []\n",
    "# Loop through subreddits\n",
    "for subreddit in subreddits:\n",
    "  curr_subreddit = reddit.subreddit(subreddit)\n",
    "\n",
    "  # Search query with a time filter (limit to posts from Nov-Jan)\n",
    "  posts = curr_subreddit.search(\"NVIDIA\",\n",
    "                            sort='new',\n",
    "                            time_filter='all',\n",
    "                            limit=None)\n",
    "  # Loop through search results, if they are within time period, add to the list\n",
    "  for post in posts:\n",
    "      post_date = datetime.datetime.utcfromtimestamp(post.created_utc)\n",
    "      if start_timestamp <= post.created_utc <= end_timestamp:\n",
    "          train_filtered_posts.append({\n",
    "              'Post_Title': post.title,\n",
    "              'Post_URL': post.url,\n",
    "              'Post_Text': post.selftext,\n",
    "              'Date_Posted': post_date,\n",
    "              'Upvotes': post.score,\n",
    "              'Comments': post.num_comments,\n",
    "              'Subreddit': post.subreddit.display_name,\n",
    "          })\n",
    "\n",
    "# Convert the list of dictionaries to pandas df\n",
    "train_reddit_df = pd.DataFrame(train_filtered_posts)\n",
    "\n",
    "print(len(train_reddit_df))\n",
    "train_reddit_df.head()\n"
   ]
  },
  {
   "cell_type": "code",
   "execution_count": null,
   "metadata": {
    "id": "NxuQUMNLRqc8"
   },
   "outputs": [],
   "source": [
    "train_reddit_df.to_csv('data/train_reddit_df_w_text.csv', index=False)"
   ]
  },
  {
   "cell_type": "markdown",
   "metadata": {
    "id": "u2BVOUOQTD_X"
   },
   "source": [
    "### Get Test Data"
   ]
  },
  {
   "cell_type": "code",
   "execution_count": null,
   "metadata": {
    "colab": {
     "base_uri": "https://localhost:8080/",
     "height": 1000
    },
    "id": "vAU3Aw1CRuMW",
    "outputId": "cbe07f72-9b41-4779-fa01-fc7a3450a93e"
   },
   "outputs": [],
   "source": [
    "# Get test data range\n",
    "start_date = datetime.datetime(2025, 2, 1)  # February, 1, 2025\n",
    "end_date = datetime.datetime(2025, 2, 7)  # February, 7, 2025\n",
    "\n",
    "start_timestamp = int(start_date.timestamp())\n",
    "end_timestamp = int(end_date.timestamp())\n",
    "\n",
    "# Query subreddit posts containing 'NVIDIA' within the date range in various subreddits\n",
    "subreddits = ['stocks', 'investing', 'money', 'DayTrading', 'wallstreetbets']\n",
    "test_filtered_posts = []\n",
    "for subreddit in subreddits:\n",
    "  curr_subreddit = reddit.subreddit(subreddit)\n",
    "\n",
    "  # Search query with a time filter (limit to posts from Feb1-Feb7)\n",
    "  posts = curr_subreddit.search(\"NVIDIA\",\n",
    "                            sort='new',\n",
    "                            time_filter='all',\n",
    "                            limit=None)\n",
    "  # Loop through search results, append if within desired time range\n",
    "  for post in posts:\n",
    "      post_date = datetime.datetime.utcfromtimestamp(post.created_utc)\n",
    "      if start_timestamp <= post.created_utc <= end_timestamp:\n",
    "          test_filtered_posts.append({\n",
    "              'Post_Title': post.title,\n",
    "              'Post_URL': post.url,\n",
    "              'Post_Text': post.selftext,\n",
    "              'Date_Posted': post_date,\n",
    "              'Upvotes': post.score,\n",
    "              'Comments': post.num_comments,\n",
    "              'Subreddit': post.subreddit.display_name,\n",
    "          })\n",
    "\n",
    "# Convert the list of dictionaries to a DataFrame\n",
    "test_reddit_df = pd.DataFrame(test_filtered_posts)\n",
    "\n",
    "print(len(test_reddit_df))\n",
    "test_reddit_df.head()"
   ]
  },
  {
   "cell_type": "code",
   "execution_count": null,
   "metadata": {
    "id": "ZBNG5EKYT7Ny"
   },
   "outputs": [],
   "source": [
    "test_reddit_df.to_csv('data/test_reddit_df_w_text.csv', index=False)"
   ]
  },
  {
   "cell_type": "code",
   "execution_count": null,
   "metadata": {
    "id": "7WAMQKINTT8d"
   },
   "outputs": [],
   "source": []
  }
 ],
 "metadata": {
  "colab": {
   "provenance": []
  },
  "kernelspec": {
   "display_name": "Python 3 (ipykernel)",
   "language": "python",
   "name": "python3"
  },
  "language_info": {
   "codemirror_mode": {
    "name": "ipython",
    "version": 3
   },
   "file_extension": ".py",
   "mimetype": "text/x-python",
   "name": "python",
   "nbconvert_exporter": "python",
   "pygments_lexer": "ipython3",
   "version": "3.9.19"
  }
 },
 "nbformat": 4,
 "nbformat_minor": 4
}
